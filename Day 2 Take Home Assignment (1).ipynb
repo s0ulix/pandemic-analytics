{
 "cells": [
  {
   "cell_type": "code",
   "execution_count": 19,
   "metadata": {},
   "outputs": [],
   "source": [
    "import tkinter as tk\n",
    "import tkinter.messagebox\n",
    "\n",
    "\n",
    "main_window=tk.Tk()\n",
    "main_window.configure(background=\"black\")\n",
    "main_window.title(\"Pandemics Analytics Engine\")\n",
    "Label=tk.Label(main_window,text=\"Pandemic Analytics Engine\",fg=\"white\",bg=\"black\",font=(\"helvetica\",20)).grid(column=2,row=0)\n",
    "State=tk.Label(main_window,text=\"Select State : \",fg=\"white\",bg=\"black\",justify=\"left\",font=(\"helvetiva\",15)).grid(column=2,row=1)\n",
    "state_select=tik.Combobox(main_window)\n",
    "state_select['values']=(\"Punjab\",\"Delhi\",\"Maharashtra\",\"Bihar\",\"Jharkhand\")\n",
    "state_select.current(0)\n",
    "state_select.grid(column=2,row=2)\n",
    "infected=tk.Label(main_window,text=\"Infected Total Till Today : \",fg=\"white\",bg=\"black\",font=(\"helvetica\",15)).grid(column=2,row=3)\n",
    "infected_total=tk.Entry(main_window,width=24)\n",
    "infected_total.grid(column=2,row=4)\n",
    "recovered=tk.Label(main_window,text=\"Recovered till date :\",fg=\"#98FB98\",bg=\"black\",font=(\"helvetica\",15)).grid(column=2,row=5)\n",
    "recovered_till_date=tk.Entry(main_window,width=24)\n",
    "recovered_till_date.grid(column=2,row=6)\n",
    "deaths=tk.Label(main_window,text=\"Deaths till Date : \",bg=\"black\",fg=\"red\",font=(\"helvetica\",15)).grid(column=2,row=7)\n",
    "deaths_till_date=tk.Entry(main_window,width=24)\n",
    "deaths_till_date.grid(column=2,row=8)\n",
    "def cmr():\n",
    "    x=int(deaths_till_date.get())\n",
    "    y=int(infected_total.get())\n",
    "    return((x/y)*100)\n",
    "    \n",
    "def ifr():\n",
    "    a=int(recovered_till_date.get())\n",
    "    b=int(infected_total.get())\n",
    "    return((a/b)*100)\n",
    "\n",
    "    \n",
    "def cmr_clicked():\n",
    "    tk.messagebox.showinfo(title=\"CMR\",message=cmr())\n",
    "def ifr_clicked():\n",
    "    tk.messagebox.showinfo(title=\"IFR\",message=ifr())\n",
    "CMR=tk.Button(main_window,text=\"CMR\",bg=\"red\",fg=\"white\",width=10,command=cmr_clicked).grid(column=2,row=9)\n",
    "IFR=tk.Button(main_window,text=\"IFR\",bg=\"green\",fg=\"white\",width=10,command=ifr_clicked).grid(column=2,row=10)\n",
    "\n",
    "main_window.mainloop()"
    "#GUI is great"
   ]
  },
  {
   "cell_type": "code",
   "execution_count": null,
   "metadata": {},
   "outputs": [],
   "source": []
  },
  {
   "cell_type": "code",
   "execution_count": null,
   "metadata": {},
   "outputs": [],
   "source": []
  }
 ],
 "metadata": {
  "kernelspec": {
   "display_name": "Python 3",
   "language": "python",
   "name": "python3"
  },
  "language_info": {
   "codemirror_mode": {
    "name": "ipython",
    "version": 3
   },
   "file_extension": ".py",
   "mimetype": "text/x-python",
   "name": "python",
   "nbconvert_exporter": "python",
   "pygments_lexer": "ipython3",
   "version": "3.8.3"
  }
 },
 "nbformat": 4,
 "nbformat_minor": 4
}
